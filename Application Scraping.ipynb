{
 "cells": [
  {
   "cell_type": "code",
   "execution_count": 19,
   "metadata": {},
   "outputs": [],
   "source": [
    "# Created By:\n",
    "# Ankur Sahni (C0774585)\n",
    "# Kshitij Pokhriyal (C0771607)"
   ]
  },
  {
   "cell_type": "code",
   "execution_count": 1,
   "metadata": {},
   "outputs": [],
   "source": [
    "import json\n",
    "import csv\n",
    "import tweepy\n",
    "import re"
   ]
  },
  {
   "cell_type": "code",
   "execution_count": 1,
   "metadata": {},
   "outputs": [],
   "source": [
    "def scrap_hashtags(consumer_key, consumer_secret, access_token, access_token_secret, hashtag_phrase):\n",
    "    \n",
    "    auth = tweepy.OAuthHandler(consumer_key, consumer_secret)\n",
    "    auth.set_access_token(access_token, access_token_secret)\n",
    "\n",
    "    #initialize Tweepy API\n",
    "    api = tweepy.API(auth)\n",
    "    \n",
    "    #get the name of the spreadsheet we will write to\n",
    "    fname = '_'.join(re.findall(r\"#(\\w+)\", hashtag_phrase))\n",
    "\n",
    "    #open the spreadsheet we will write to\n",
    "    with open('%s.csv' % (fname), 'w') as file:\n",
    "\n",
    "        w = csv.writer(file)\n",
    "\n",
    "        w.writerow(['Tweeted Text', 'Username', 'Hashtags Used'])\n",
    "\n",
    "        #for each tweet matching our hashtags, write relevant info to the spreadsheet\n",
    "        for tweet in tweepy.Cursor(api.search, q=hashtag_phrase+' -filter:retweets', \\\n",
    "                                   lang=\"en\", tweet_mode='extended').items(50):\n",
    "            w.writerow([tweet.full_text.replace('\\n',' ').encode('utf-8'), tweet.user.screen_name.encode('utf-8'), [e['text'] for e in tweet._json['entities']['hashtags']]])"
   ]
  },
  {
   "cell_type": "code",
   "execution_count": null,
   "metadata": {},
   "outputs": [],
   "source": [
    "consumer_key = input('Consumer Key ')\n",
    "consumer_secret = input('Consumer Secret ')\n",
    "access_token = input('Access Token ')\n",
    "access_token_secret = input('Access Token Secret ')\n",
    "    \n",
    "hashtag_phrase = input('Hashtag Phrase ')\n",
    "\n",
    "if __name__ == '__main__':\n",
    "    scrap_hashtags(consumer_key, consumer_secret, access_token, access_token_secret, hashtag_phrase)"
   ]
  },
  {
   "cell_type": "code",
   "execution_count": 16,
   "metadata": {},
   "outputs": [],
   "source": []
  },
  {
   "cell_type": "code",
   "execution_count": null,
   "metadata": {},
   "outputs": [],
   "source": []
  }
 ],
 "metadata": {
  "kernelspec": {
   "display_name": "Python 3",
   "language": "python",
   "name": "python3"
  },
  "language_info": {
   "codemirror_mode": {
    "name": "ipython",
    "version": 3
   },
   "file_extension": ".py",
   "mimetype": "text/x-python",
   "name": "python",
   "nbconvert_exporter": "python",
   "pygments_lexer": "ipython3",
   "version": "3.7.4"
  }
 },
 "nbformat": 4,
 "nbformat_minor": 2
}
